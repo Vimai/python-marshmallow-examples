{
 "cells": [
  {
   "cell_type": "code",
   "execution_count": 52,
   "metadata": {},
   "outputs": [],
   "source": [
    "import datetime as dt\n",
    "from marshmallow import Schema, fields, post_load\n",
    "from pprint import pprint\n",
    "\n",
    "\n",
    "class User:\n",
    "    def __init__(self, name, email):\n",
    "        self.name = name\n",
    "        self.email = email\n",
    "        self.created_at = dt.datetime.now()\n",
    "\n",
    "    def __repr__(self):\n",
    "        return \"<User(name={self.name!r})>\".format(self=self)\n",
    "\n",
    "\n",
    "class UserSchema(Schema):\n",
    "    name = fields.Str()\n",
    "    email = fields.Email()\n",
    "    created_at = fields.DateTime()\n"
   ]
  },
  {
   "cell_type": "markdown",
   "metadata": {},
   "source": [
    "## Dumping - serializing"
   ]
  },
  {
   "cell_type": "code",
   "execution_count": 48,
   "metadata": {},
   "outputs": [
    {
     "name": "stdout",
     "output_type": "stream",
     "text": [
      "{'created_at': '2020-09-15T09:36:58.525745',\n",
      " 'email': 'monty@python.org',\n",
      " 'name': 'Monty'}\n"
     ]
    }
   ],
   "source": [
    "user = User(name=\"Monty\", email=\"monty@python.org\")\n",
    "schema = UserSchema()\n",
    "result = schema.dump(user)\n",
    "pprint(result)"
   ]
  },
  {
   "cell_type": "code",
   "execution_count": 49,
   "metadata": {},
   "outputs": [
    {
     "name": "stdout",
     "output_type": "stream",
     "text": [
      "('{\"created_at\": \"2020-09-15T09:36:58.525745\", \"name\": \"Monty\", \"email\": '\n",
      " '\"monty@python.org\"}')\n"
     ]
    }
   ],
   "source": [
    "json_result = schema.dumps(user)\n",
    "pprint(json_result)"
   ]
  },
  {
   "cell_type": "markdown",
   "metadata": {},
   "source": [
    "### Filtering output"
   ]
  },
  {
   "cell_type": "code",
   "execution_count": 50,
   "metadata": {},
   "outputs": [
    {
     "name": "stdout",
     "output_type": "stream",
     "text": [
      "{'email': 'monty@python.org', 'name': 'Monty'}\n"
     ]
    }
   ],
   "source": [
    "summary_schema = UserSchema(only=(\"name\", \"email\"))\n",
    "pprint(summary_schema.dump(user))"
   ]
  },
  {
   "cell_type": "markdown",
   "metadata": {},
   "source": [
    "## Loading - deserializing"
   ]
  },
  {
   "cell_type": "code",
   "execution_count": 53,
   "metadata": {},
   "outputs": [
    {
     "name": "stdout",
     "output_type": "stream",
     "text": [
      "{'created_at': datetime.datetime(2014, 8, 11, 5, 26, 3, 869245),\n",
      " 'email': 'ken@yahoo.com',\n",
      " 'name': 'Ken'}\n"
     ]
    }
   ],
   "source": [
    "user_data = {\n",
    "    \"created_at\": \"2014-08-11T05:26:03.869245\",\n",
    "    \"email\": \"ken@yahoo.com\",\n",
    "    \"name\": \"Ken\",\n",
    "}\n",
    "schema = UserSchema()\n",
    "result = schema.load(user_data)\n",
    "pprint(result)"
   ]
  },
  {
   "cell_type": "markdown",
   "metadata": {},
   "source": [
    "É possivel deserializar o dict para um objeto, com o post_load"
   ]
  },
  {
   "cell_type": "code",
   "execution_count": 54,
   "metadata": {},
   "outputs": [],
   "source": [
    "class UserSchema(Schema):\n",
    "    name = fields.Str()\n",
    "    email = fields.Email()\n",
    "    created_at = fields.DateTime(dump_only=True)\n",
    "\n",
    "    @post_load\n",
    "    def make_user(self, data, **kwargs):\n",
    "        print(data)\n",
    "        return User(**data)"
   ]
  },
  {
   "cell_type": "code",
   "execution_count": 55,
   "metadata": {},
   "outputs": [
    {
     "name": "stdout",
     "output_type": "stream",
     "text": [
      "{'name': 'Ronnie', 'email': 'ronnie@stones.com'}\n"
     ]
    }
   ],
   "source": [
    "user_data = {\"name\": \"Ronnie\", \"email\": \"ronnie@stones.com\"}\n",
    "schema = UserSchema()\n",
    "result = schema.load(user_data)"
   ]
  },
  {
   "cell_type": "code",
   "execution_count": 56,
   "metadata": {},
   "outputs": [
    {
     "name": "stdout",
     "output_type": "stream",
     "text": [
      "<User(name='Ronnie')>\n"
     ]
    }
   ],
   "source": [
    "print(result)  # => <User(name='Ronnie')>"
   ]
  },
  {
   "cell_type": "code",
   "execution_count": 57,
   "metadata": {},
   "outputs": [
    {
     "data": {
      "text/plain": [
       "<User(name='Ronnie')>"
      ]
     },
     "execution_count": 57,
     "metadata": {},
     "output_type": "execute_result"
    }
   ],
   "source": [
    "User(**user_data)"
   ]
  },
  {
   "cell_type": "markdown",
   "metadata": {},
   "source": [
    "List of objects - Serialization and deserialization"
   ]
  },
  {
   "cell_type": "code",
   "execution_count": 58,
   "metadata": {},
   "outputs": [],
   "source": [
    "user1 = User(name=\"Mick\", email=\"mick@stones.com\")\n",
    "user2 = User(name=\"Keith\", email=\"keith@stones.com\")\n",
    "users = [user1, user2]"
   ]
  },
  {
   "cell_type": "code",
   "execution_count": 59,
   "metadata": {},
   "outputs": [
    {
     "name": "stdout",
     "output_type": "stream",
     "text": [
      "[{'created_at': '2020-09-15T09:38:10.046919',\n",
      "  'email': 'mick@stones.com',\n",
      "  'name': 'Mick'},\n",
      " {'created_at': '2020-09-15T09:38:10.047142',\n",
      "  'email': 'keith@stones.com',\n",
      "  'name': 'Keith'}]\n"
     ]
    }
   ],
   "source": [
    "schema = UserSchema(many=True)\n",
    "result = schema.dump(users)  # OR UserSchema().dump(users, many=True)\n",
    "pprint(result)"
   ]
  },
  {
   "cell_type": "markdown",
   "metadata": {},
   "source": [
    "or"
   ]
  },
  {
   "cell_type": "code",
   "execution_count": 60,
   "metadata": {},
   "outputs": [
    {
     "name": "stdout",
     "output_type": "stream",
     "text": [
      "[{'created_at': '2020-09-15T09:38:10.046919',\n",
      "  'email': 'mick@stones.com',\n",
      "  'name': 'Mick'},\n",
      " {'created_at': '2020-09-15T09:38:10.047142',\n",
      "  'email': 'keith@stones.com',\n",
      "  'name': 'Keith'}]\n"
     ]
    }
   ],
   "source": [
    "result = UserSchema().dump(users, many=True)\n",
    "pprint(result)"
   ]
  },
  {
   "cell_type": "code",
   "execution_count": 65,
   "metadata": {},
   "outputs": [],
   "source": [
    "for _ in result:\n",
    "    del _['created_at']"
   ]
  },
  {
   "cell_type": "code",
   "execution_count": 66,
   "metadata": {},
   "outputs": [
    {
     "data": {
      "text/plain": [
       "[{'name': 'Mick', 'email': 'mick@stones.com'},\n",
       " {'name': 'Keith', 'email': 'keith@stones.com'}]"
      ]
     },
     "execution_count": 66,
     "metadata": {},
     "output_type": "execute_result"
    }
   ],
   "source": [
    "result"
   ]
  },
  {
   "cell_type": "code",
   "execution_count": 67,
   "metadata": {},
   "outputs": [
    {
     "name": "stdout",
     "output_type": "stream",
     "text": [
      "{'name': 'Mick', 'email': 'mick@stones.com'}\n",
      "{'name': 'Keith', 'email': 'keith@stones.com'}\n"
     ]
    }
   ],
   "source": [
    "schema = UserSchema()\n",
    "result_object = schema.load(result, many=True)"
   ]
  },
  {
   "cell_type": "markdown",
   "metadata": {},
   "source": [
    "## Specifying Serialization/Deserialization Keys\n"
   ]
  },
  {
   "cell_type": "code",
   "execution_count": 69,
   "metadata": {},
   "outputs": [],
   "source": [
    "class UserSchema(Schema):\n",
    "    name = fields.String()\n",
    "    email = fields.Email(data_key=\"emailAddress\")\n",
    "\n",
    "\n",
    "s = UserSchema()"
   ]
  },
  {
   "cell_type": "code",
   "execution_count": 72,
   "metadata": {},
   "outputs": [
    {
     "name": "stdout",
     "output_type": "stream",
     "text": [
      "{'name': 'Mike', 'emailAddress': 'foo@bar.com'}\n"
     ]
    }
   ],
   "source": [
    "data = {\"name\": \"Mike\", \"email\": \"foo@bar.com\"}\n",
    "result = s.dump(data)\n",
    "print(result)"
   ]
  },
  {
   "cell_type": "code",
   "execution_count": 73,
   "metadata": {},
   "outputs": [
    {
     "name": "stdout",
     "output_type": "stream",
     "text": [
      "{'name': 'Mike', 'email': 'foo@bar.com'}\n"
     ]
    }
   ],
   "source": [
    "data = {\"name\": \"Mike\", \"emailAddress\": \"foo@bar.com\"}\n",
    "result = s.load(data)\n",
    "print(result)"
   ]
  },
  {
   "cell_type": "code",
   "execution_count": 74,
   "metadata": {},
   "outputs": [],
   "source": []
  },
  {
   "cell_type": "code",
   "execution_count": null,
   "metadata": {},
   "outputs": [],
   "source": [
    "\n"
   ]
  },
  {
   "cell_type": "code",
   "execution_count": null,
   "metadata": {},
   "outputs": [],
   "source": []
  },
  {
   "cell_type": "code",
   "execution_count": null,
   "metadata": {},
   "outputs": [],
   "source": []
  },
  {
   "cell_type": "code",
   "execution_count": null,
   "metadata": {},
   "outputs": [],
   "source": []
  },
  {
   "cell_type": "code",
   "execution_count": null,
   "metadata": {},
   "outputs": [],
   "source": []
  },
  {
   "cell_type": "code",
   "execution_count": null,
   "metadata": {},
   "outputs": [],
   "source": []
  }
 ],
 "metadata": {
  "kernelspec": {
   "display_name": "py37",
   "language": "python",
   "name": "py37"
  },
  "language_info": {
   "codemirror_mode": {
    "name": "ipython",
    "version": 3
   },
   "file_extension": ".py",
   "mimetype": "text/x-python",
   "name": "python",
   "nbconvert_exporter": "python",
   "pygments_lexer": "ipython3",
   "version": "3.7.6"
  }
 },
 "nbformat": 4,
 "nbformat_minor": 4
}
