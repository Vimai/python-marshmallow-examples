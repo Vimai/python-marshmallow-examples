{
 "cells": [
  {
   "cell_type": "code",
   "execution_count": 1,
   "metadata": {},
   "outputs": [],
   "source": [
    "import datetime as dt\n",
    "from marshmallow import Schema, fields, post_load, ValidationError\n",
    "from pprint import pprint\n",
    "\n",
    "class ItemSchema(Schema):\n",
    "    price = fields.Float(\n",
    "        required=True,\n",
    "        data_key='preco',\n",
    "        error_messages={'required': \"Campo é obrigatório\"}\n",
    "    )\n",
    "    name = fields.Str(\n",
    "        required=True,\n",
    "        data_key='nome',\n",
    "        error_messages={'required': \"Campo é obrigatório\"}\n",
    "    )\n",
    "\n",
    "class CarrinhoSchema(Schema):\n",
    "    total_price = fields.Float(\n",
    "        required=True,\n",
    "        data_key='valor_total',\n",
    "        allow_none=True,\n",
    "        error_messages={'required': \"Campo é obrigatório\"}\n",
    "    )\n",
    "    person = fields.Str(\n",
    "        required=True,\n",
    "        data_key='pessoa',\n",
    "        allow_none=True,\n",
    "        error_messages={'required': \"Campo é obrigatório\"}\n",
    "    )\n",
    "    items = fields.List(\n",
    "        fields.Nested(ItemSchema()),\n",
    "        required=True,\n",
    "        data_key='itens',\n",
    "        allow_none=True,\n",
    "        error_messages={'required': \"Campo é obrigatório\"}\n",
    "    )\n",
    "    "
   ]
  },
  {
   "cell_type": "code",
   "execution_count": 2,
   "metadata": {},
   "outputs": [
    {
     "name": "stdout",
     "output_type": "stream",
     "text": [
      "{'items': [{'name': 'arroz', 'price': 10.5}, {'name': 'tomate', 'price': 5.0}],\n",
      " 'person': 'Vinicius',\n",
      " 'total_price': 15.5}\n"
     ]
    }
   ],
   "source": [
    "cart_data = {\n",
    "    \"pessoa\": \"Vinicius\",\n",
    "    \"valor_total\": 15.5,\n",
    "    \"itens\": [\n",
    "        {\n",
    "            'nome': 'arroz',\n",
    "            'preco': 10.5,\n",
    "        },\n",
    "        {\n",
    "            'nome': 'tomate',\n",
    "            'preco': 5,\n",
    "        }\n",
    "    ],\n",
    "}\n",
    "schema = CarrinhoSchema()\n",
    "result = schema.load(cart_data)\n",
    "pprint(result)"
   ]
  },
  {
   "cell_type": "code",
   "execution_count": 3,
   "metadata": {},
   "outputs": [
    {
     "name": "stdout",
     "output_type": "stream",
     "text": [
      "{'valor_total': ['Campo é obrigatório']}\n"
     ]
    }
   ],
   "source": [
    "cart_data = {\n",
    "    \"pessoa\": \"Vinicius\",\n",
    "    \"itens\": [\n",
    "        {\n",
    "            'nome': 'arroz',\n",
    "            'preco': 10.5,\n",
    "        },\n",
    "        {\n",
    "            'nome': 'tomate',\n",
    "            'preco': 5,\n",
    "        }\n",
    "    ],\n",
    "}\n",
    "schema = CarrinhoSchema()\n",
    "try:\n",
    "    result = schema.load(cart_data)\n",
    "    pprint(result)\n",
    "except ValidationError as error:\n",
    "    pprint(error.args[0])"
   ]
  },
  {
   "cell_type": "code",
   "execution_count": 4,
   "metadata": {},
   "outputs": [
    {
     "name": "stdout",
     "output_type": "stream",
     "text": [
      "{'itens': ['Campo é obrigatório']}\n"
     ]
    }
   ],
   "source": [
    "cart_data = {\n",
    "    \"pessoa\": None,\n",
    "    \"valor_total\": 15.5,\n",
    "}\n",
    "schema = CarrinhoSchema()\n",
    "try:\n",
    "    result = schema.load(cart_data)\n",
    "    pprint(result)\n",
    "except ValidationError as error:\n",
    "    pprint(error.args[0])"
   ]
  },
  {
   "cell_type": "code",
   "execution_count": 7,
   "metadata": {},
   "outputs": [
    {
     "name": "stdout",
     "output_type": "stream",
     "text": [
      "{'itens': {0: {'preco': ['Campo é obrigatório']},\n",
      "           1: {'nome': ['Campo é obrigatório']}}}\n"
     ]
    }
   ],
   "source": [
    "cart_data = {\n",
    "    \"pessoa\": 'Vinicius',\n",
    "    \"valor_total\": 15.5,\n",
    "    \"itens\": [\n",
    "        {\n",
    "            'nome': 'arroz',\n",
    "        },\n",
    "        {\n",
    "            'preco': 10.5,\n",
    "        },\n",
    "    ],\n",
    "}\n",
    "schema = CarrinhoSchema()\n",
    "try:\n",
    "    result = schema.load(cart_data)\n",
    "    pprint(result)\n",
    "except ValidationError as error:\n",
    "    pprint(error.args[0])"
   ]
  },
  {
   "cell_type": "code",
   "execution_count": null,
   "metadata": {},
   "outputs": [],
   "source": []
  },
  {
   "cell_type": "code",
   "execution_count": null,
   "metadata": {},
   "outputs": [],
   "source": []
  },
  {
   "cell_type": "code",
   "execution_count": null,
   "metadata": {},
   "outputs": [],
   "source": []
  }
 ],
 "metadata": {
  "kernelspec": {
   "display_name": "py37",
   "language": "python",
   "name": "py37"
  },
  "language_info": {
   "codemirror_mode": {
    "name": "ipython",
    "version": 3
   },
   "file_extension": ".py",
   "mimetype": "text/x-python",
   "name": "python",
   "nbconvert_exporter": "python",
   "pygments_lexer": "ipython3",
   "version": "3.7.6"
  }
 },
 "nbformat": 4,
 "nbformat_minor": 4
}
